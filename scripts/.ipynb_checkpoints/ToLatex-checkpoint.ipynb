{
 "cells": [
  {
   "cell_type": "code",
   "execution_count": 56,
   "id": "250a89c2",
   "metadata": {},
   "outputs": [],
   "source": [
    "################################\n",
    "# LIBRARIES\n",
    "################################\n",
    "import os\n",
    "import sys\n",
    "module_path = os.path.abspath(os.path.join('..'))\n",
    "if module_path not in sys.path:\n",
    "    sys.path.append(module_path)\n",
    "\n",
    "from src.util import *\n",
    "from src.frames import *\n",
    "from src.stats import *\n",
    "from src.plots import *\n",
    "\n",
    "import numpy as np\n",
    "import pandas as pd\n",
    "from pandas.api.types import CategoricalDtype"
   ]
  },
  {
   "cell_type": "code",
   "execution_count": 94,
   "id": "4c3cf4f4",
   "metadata": {},
   "outputs": [],
   "source": [
    "out = pd.read_csv('../results/stations_sensirion/tables/station_quantiles(PM2.5).csv', skiprows=1)\n",
    "out = out.loc[1:]\n",
    "out.rename(columns={ out.columns[0]: \"station\" }, inplace = True)\n",
    "\n",
    "out = out[['station', 'outliers', 'count']]\n",
    "\n",
    "stats = pd.read_csv('../results/stations_sensirion/tables/general_stats(PM2.5).csv', skiprows=1)\n",
    "stats = stats.loc[1:]\n",
    "stats.rename(columns={ stats.columns[0]: \"station\" }, inplace = True)\n",
    "stats.rename(columns={ stats.columns[-1]: \"order\" }, inplace = True)\n",
    "\n",
    "stats = stats[['station', 'mean', 'median', 'sample_std']]\n"
   ]
  },
  {
   "cell_type": "code",
   "execution_count": null,
   "id": "49afd2c1",
   "metadata": {},
   "outputs": [],
   "source": []
  },
  {
   "cell_type": "code",
   "execution_count": 95,
   "id": "b09a5ca1",
   "metadata": {},
   "outputs": [],
   "source": [
    "stats.reset_index(drop=True, inplace=True)\n",
    "out.reset_index(drop=True, inplace=True)\n",
    "\n",
    "total = pd.merge(stats, out, on='station')\n",
    "\n",
    "green_line_order = CategoricalDtype(get_green_line(), ordered=True)\n",
    "\n",
    "total['order'] = total['station'].astype(green_line_order)\n",
    "total = total.sort_values('order')\n",
    "\n",
    "total.to_csv('../results/stations_sensirion/tables/key_stats.csv', index=False)"
   ]
  },
  {
   "cell_type": "code",
   "execution_count": null,
   "id": "f2c17e4c",
   "metadata": {},
   "outputs": [],
   "source": []
  },
  {
   "cell_type": "code",
   "execution_count": 93,
   "id": "eba361fd",
   "metadata": {},
   "outputs": [
    {
     "name": "stdout",
     "output_type": "stream",
     "text": [
      "Islandstorget & 4.85 & 3.88 & 4.1 & 4 & 0 \\\\\n",
      "Angbyplan & 5.16 & 5.16 & 4.13 & 2 & 0 \\\\\n",
      "Åkeshov & 3.85 & 2.45 & 3.38 & 9 & 1 \\\\\n",
      "Brommaplan & 4.34 & 2.27 & 3.75 & 11 & 0 \\\\\n",
      "Abrahamsberg & 4.56 & 2.43 & 4.4 & 11 & 1 \\\\\n",
      "Stora mossen & 4.51 & 2.59 & 3.94 & 11 & 0 \\\\\n",
      "Alvik & 4.52 & 2.97 & 3.56 & 20 & 3 \\\\\n",
      "Kristineberg & 4.77 & 3.0 & 3.68 & 20 & 1 \\\\\n",
      "Thorildsplan & 4.54 & 2.64 & 3.6 & 17 & 1 \\\\\n",
      "Fridhemsplan & 18.88 & 18.57 & 4.83 & 20 & 1 \\\\\n",
      "St Eriksplan & 25.08 & 25.51 & 3.21 & 20 & 1 \\\\\n",
      "Odenplan & 27.44 & 28.1 & 3.75 & 27 & 0 \\\\\n",
      "Rådmansgatan & 29.9 & 27.43 & 9.69 & 17 & 1 \\\\\n",
      "Hötorget & 35.5 & 36.02 & 5.39 & 16 & 0 \\\\\n",
      "T-Centralen & 31.05 & 31.98 & 4.74 & 17 & 0 \\\\\n",
      "Gamla Stan & 8.3 & 7.25 & 4.22 & 17 & 0 \\\\\n",
      "Slussen & 22.37 & 21.09 & 8.45 & 18 & 0 \\\\\n",
      "Medborgarplatsen & 18.01 & 18.54 & 2.77 & 17 & 0 \\\\\n",
      "Skanstull & 14.96 & 13.18 & 4.7 & 17 & 2 \\\\\n",
      "Gullmarsplan & 4.42 & 3.73 & 2.94 & 16 & 2 \\\\\n",
      "\n"
     ]
    }
   ],
   "source": [
    "with open('../results/stations_sensirion/tables/key_stats.csv') as f:\n",
    "    contents = f.read()\n",
    "    \n",
    "contents = contents.split('\\n')\n",
    "\n",
    "header = True\n",
    "latex_format = ''\n",
    "\n",
    "for row in contents:\n",
    "    if header:\n",
    "        header = False\n",
    "        continue\n",
    "    \n",
    "    if row == '':\n",
    "        continue\n",
    "    values = row.split(',')\n",
    "    \n",
    "    latex_format += values[0] + ' & ' # station name\n",
    "    latex_format += ' & '.join([str(round(float(v), 2)) for v in values[1:4]]) + ' & ' # values\n",
    "    latex_format += ' & '.join([str(int(float(v))) for v in values[4:6]]) + ' \\\\\\\\'\n",
    "    latex_format += '\\n'\n",
    "    \n",
    "print(latex_format)"
   ]
  },
  {
   "cell_type": "code",
   "execution_count": 81,
   "id": "7dd719d8",
   "metadata": {},
   "outputs": [
    {
     "data": {
      "text/plain": [
       "['0.0', '4.0']"
      ]
     },
     "execution_count": 81,
     "metadata": {},
     "output_type": "execute_result"
    }
   ],
   "source": [
    "[v for v in values[4:6]]"
   ]
  },
  {
   "cell_type": "code",
   "execution_count": null,
   "id": "99d78b35",
   "metadata": {},
   "outputs": [],
   "source": []
  }
 ],
 "metadata": {
  "kernelspec": {
   "display_name": "Python 3.9.7 64-bit",
   "language": "python",
   "name": "python397jvsc74a57bd0340e956ee656efd8fdfb480dc033c937d9b626f8b21073bd1b5aa2a469586ea6"
  },
  "language_info": {
   "codemirror_mode": {
    "name": "ipython",
    "version": 3
   },
   "file_extension": ".py",
   "mimetype": "text/x-python",
   "name": "python",
   "nbconvert_exporter": "python",
   "pygments_lexer": "ipython3",
   "version": "3.9.9"
  }
 },
 "nbformat": 4,
 "nbformat_minor": 5
}
