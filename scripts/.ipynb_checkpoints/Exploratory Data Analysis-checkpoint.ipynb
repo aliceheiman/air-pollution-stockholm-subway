{
 "cells": [
  {
   "cell_type": "code",
   "execution_count": null,
   "id": "8858f05e",
   "metadata": {},
   "outputs": [],
   "source": [
    "################################\n",
    "# LIBRARIES\n",
    "################################\n",
    "import os\n",
    "import sys\n",
    "module_path = os.path.abspath(os.path.join('..'))\n",
    "if module_path not in sys.path:\n",
    "    sys.path.append(module_path)\n",
    "\n",
    "from src.util import *\n",
    "from src.frames import *\n",
    "from src.stats import *\n",
    "from src.plots import *\n",
    "\n",
    "import numpy as np\n",
    "import pandas as pd\n",
    "\n",
    "import matplotlib.pyplot as plt\n",
    "import seaborn as sns\n",
    "import scipy.stats as stats\n",
    "\n",
    "# Matplotlib settings\n",
    "plt.style.use(\"seaborn\")\n",
    "\n",
    "params = {\n",
    "    \"font.family\": \"STIXGeneral\",\n",
    "    \"mathtext.fontset\": \"stix\",\n",
    "    \"axes.labelsize\": 20,\n",
    "    \"legend.fontsize\": 20,\n",
    "    \"xtick.labelsize\": 18,\n",
    "    \"ytick.labelsize\": 18,\n",
    "    \"text.usetex\": False,\n",
    "    \"figure.figsize\": [10, 5],\n",
    "    \"axes.grid\": True,\n",
    "}\n",
    "\n",
    "plt.rcParams.update(params)\n",
    "plt.close(\"all\")\n",
    "\n",
    "# Apply the default theme\n",
    "sns.set_theme()\n",
    "\n",
    "%matplotlib inline\n",
    "%load_ext autoreload\n",
    "%autoreload 2\n",
    "\n",
    "pd.options.mode.chained_assignment = None  # default='warn'"
   ]
  },
  {
   "cell_type": "markdown",
   "id": "53d2058b",
   "metadata": {},
   "source": [
    "# Calibration A"
   ]
  },
  {
   "cell_type": "code",
   "execution_count": null,
   "id": "0a229c1f",
   "metadata": {},
   "outputs": [],
   "source": [
    "# Get calibration dataframe\n",
    "c_df = get_calibrate_df('2021-12-14', '../data/calibration_A')\n",
    "c_df = c_df[['Sensor', 'PM2.5']]\n",
    "\n",
    "# figure folder\n",
    "fig_folder = '../results/calibration_A/'"
   ]
  },
  {
   "cell_type": "markdown",
   "id": "fc6a713f",
   "metadata": {},
   "source": [
    "## 1 Overall initial statistics\n",
    "\n",
    "General statistics for the whole dataset."
   ]
  },
  {
   "cell_type": "code",
   "execution_count": null,
   "id": "66d0ce72",
   "metadata": {
    "scrolled": true
   },
   "outputs": [],
   "source": [
    "param = 'PM2.5'\n",
    "\n",
    "grand_mean = c_df[param].mean()\n",
    "grand_median = c_df[param].median()\n",
    "grand_mode = c_df[param].mode()\n",
    "grand_std = c_df[param].std()\n",
    "\n",
    "c_df[param].describe()"
   ]
  },
  {
   "cell_type": "markdown",
   "id": "ce0b4b4e",
   "metadata": {},
   "source": [
    "#### Standard deviations, etc."
   ]
  },
  {
   "cell_type": "markdown",
   "id": "e75defb4",
   "metadata": {},
   "source": [
    "The \"grand std\" shows how much every sample varies from the total mean. The coefficient of variation is computed as follows:\n",
    "\n",
    "$$CV = \\frac{\\sigma}{grand\\ mean}$$"
   ]
  },
  {
   "cell_type": "code",
   "execution_count": null,
   "id": "ad1e68c0",
   "metadata": {},
   "outputs": [],
   "source": [
    "CV = grand_std / grand_mean\n",
    "CV"
   ]
  },
  {
   "cell_type": "markdown",
   "id": "44eaf30b",
   "metadata": {},
   "source": [
    "*How much do the medians vary from the total median?* (same formula as standard deviation but with medians)"
   ]
  },
  {
   "cell_type": "code",
   "execution_count": null,
   "id": "7193f077",
   "metadata": {},
   "outputs": [],
   "source": [
    "median_diff = 0\n",
    "\n",
    "for sensor, grp in c_df.groupby('Sensor'):\n",
    "    median_diff += (grp[param].median() - grand_median) ** 2\n",
    "    \n",
    "median_diff = np.sqrt(median_diff / (len(c_df['Sensor'].unique()) - 1))\n",
    "\n",
    "median_diff"
   ]
  },
  {
   "cell_type": "markdown",
   "id": "f7ab27a7",
   "metadata": {},
   "source": [
    "## 2 Central tendency and variability"
   ]
  },
  {
   "cell_type": "code",
   "execution_count": null,
   "id": "ecdc28a6",
   "metadata": {
    "scrolled": true
   },
   "outputs": [],
   "source": [
    "central = c_df.groupby('Sensor').agg(\n",
    "    {param: \n",
    "     ['mean', 'median', mode, 'min', 'max', x_range, sample_std, standard_error, CI95]\n",
    "    }\n",
    ")\n",
    "\n",
    "central.head()"
   ]
  },
  {
   "cell_type": "markdown",
   "id": "b75fe0c2",
   "metadata": {},
   "source": [
    "**Comment**\n",
    "\n",
    "Sensor 3 has the largest range and highest standard deviation. Sensor 1 has the lowest range. Sensor 4 has the lowest standard deviation."
   ]
  },
  {
   "cell_type": "markdown",
   "id": "bf5ef203",
   "metadata": {},
   "source": [
    "## 3 Distribution\n",
    "How is the data distributed?"
   ]
  },
  {
   "cell_type": "markdown",
   "id": "c29e010b",
   "metadata": {},
   "source": [
    "### 3.1 Box plots"
   ]
  },
  {
   "cell_type": "code",
   "execution_count": null,
   "id": "a3fbffa6",
   "metadata": {
    "scrolled": false
   },
   "outputs": [],
   "source": [
    "fig, ax = plt.subplots(figsize=[10,6], dpi=200)\n",
    "\n",
    "sns.boxplot(x='Sensor', y=param, data=c_df, width=0.5)\n",
    "\n",
    "plt.axhline(c_df[param].median(), c='k', linestyle='--', label='grand median')\n",
    "plt.axhline(c_df[param].mean(), c='c', linestyle='--', label='grand mean')\n",
    "\n",
    "plt.legend()\n",
    "plt.title('Box Plots Calibration A')\n",
    "plt.savefig(fig_folder + 'box_plots.pdf')\n",
    "plt.show()"
   ]
  },
  {
   "cell_type": "markdown",
   "id": "9a8ad761",
   "metadata": {},
   "source": [
    "**Comment**\n",
    "\n",
    "From the boxplot, we can see that we have outliers. Mostly from sensors 2, 3, and 5. As the environment was controlled for during the calibration and assumed to be stable, these outliers are seen as errors in the sensor readings. Let's evaluate the outliers.\n",
    "\n",
    "Question: what should we do with outliers?\n",
    "- *Remove them*: Will give more acurate statistics later on. In this case, it is probably the most sensible thing to do as we have so many records to compare with. If the number of outliers are small, they can be probably be seen as minor measurement deviations\n",
    "- *Keep them*: How much will the outliers affect later statistics? In this case, we can determine outliers based on a large number of samples. On the station records, however, we do not have as many reference values. When comparing statistics from this dataset to the other datasets we want to keep the procedure as similar as possible.\n",
    "\n",
    "### 3.2 Outliers"
   ]
  },
  {
   "cell_type": "code",
   "execution_count": null,
   "id": "fe776fc1",
   "metadata": {},
   "outputs": [],
   "source": [
    "# Compute median, lower quartile, upper quartile, IQR, lower limit and upper limit\n",
    "quantiles = c_df.groupby('Sensor').agg(\n",
    "    {param: \n",
    "     [Q1, Q2, Q3, IQR, lowerLimit, upperLimit, outliers, prcnt_outliers, 'count']\n",
    "    }\n",
    ")\n",
    "\n",
    "# Display stats\n",
    "quantiles.head()"
   ]
  },
  {
   "cell_type": "code",
   "execution_count": null,
   "id": "0016046e",
   "metadata": {},
   "outputs": [],
   "source": [
    "# Get exact values of outliers\n",
    "outliers_dict = {}\n",
    "\n",
    "for sensor, grp in c_df.groupby('Sensor'):    \n",
    "    lower = quantiles[param]['lowerLimit'][sensor]\n",
    "    upper = quantiles[param]['upperLimit'][sensor]\n",
    "    outliers_dict[sensor] = grp.loc[(grp[param] < lower) | (grp[param] > upper)][param].values\n",
    "\n",
    "outliers_dict"
   ]
  },
  {
   "cell_type": "markdown",
   "id": "5a0a98fa",
   "metadata": {},
   "source": [
    "**Comment**\n",
    "\n",
    "Sensor 3 has the most outliers, followed by Sensor 2, Sensor 5, Sensor 4, and lastly Sensor 1. Not that many outliers in comparison to the total amount of samples taken. However, 0.07-0.36% of sample points are still contributing to a slightly different mean."
   ]
  },
  {
   "cell_type": "markdown",
   "id": "a84e968f",
   "metadata": {},
   "source": [
    "### 3.3 Histograms"
   ]
  },
  {
   "cell_type": "code",
   "execution_count": null,
   "id": "ac38ac2d",
   "metadata": {},
   "outputs": [],
   "source": [
    "plot_sensor_distributions(c_df, 'Distributions Calibration A', fig_name=False, bins=20, param=param)"
   ]
  },
  {
   "cell_type": "markdown",
   "id": "05269849",
   "metadata": {},
   "source": [
    "**Comment**\n",
    "\n",
    "This gives us a nice general overview of the individual sensor distributions. They seem to roughly follow normal distributions, but to what extent? To get more exact values, let's use QQ-plots, skew, and kurtosis."
   ]
  },
  {
   "cell_type": "markdown",
   "id": "a893c676",
   "metadata": {},
   "source": [
    "### 3.4 Normal distribution"
   ]
  },
  {
   "cell_type": "code",
   "execution_count": null,
   "id": "a988e8af",
   "metadata": {},
   "outputs": [],
   "source": [
    "normal = c_df.groupby('Sensor').agg({param: [skew, kurtosis]})\n",
    "\n",
    "normal.head(10)"
   ]
  },
  {
   "cell_type": "markdown",
   "id": "5328dd2a",
   "metadata": {},
   "source": [
    "Compare with values\n",
    "\n",
    "**Comment**\n",
    "\n",
    "Sensor 1 has the highest absolute skew and kurtosis. Sensor 6 has the lowest skew while Sensor 3 has the least amount of kurtosis. This is interesting as Sensor 3 had the most outliers in numbers."
   ]
  },
  {
   "cell_type": "markdown",
   "id": "2fee0f1f",
   "metadata": {},
   "source": [
    "#### QQ Plots"
   ]
  },
  {
   "cell_type": "code",
   "execution_count": null,
   "id": "16f895a3",
   "metadata": {},
   "outputs": [],
   "source": [
    "plot_QQ_plots(c_df, title='QQ Plots Calibration A', param=param, fig_name=False)"
   ]
  },
  {
   "cell_type": "markdown",
   "id": "9deaed7d",
   "metadata": {},
   "source": [
    "**Comment**\n",
    "\n",
    "Based on visuals from the above graphs, all sensors seem to follow a normal distribution quite well."
   ]
  },
  {
   "cell_type": "markdown",
   "id": "a3ac3855",
   "metadata": {},
   "source": [
    "## 4 Comparison among sensors and between them"
   ]
  },
  {
   "cell_type": "markdown",
   "id": "4913d734",
   "metadata": {},
   "source": [
    "### 4.1 Distribution"
   ]
  },
  {
   "cell_type": "code",
   "execution_count": null,
   "id": "d3fd6381",
   "metadata": {},
   "outputs": [],
   "source": [
    "fig, ax = plt.subplots(figsize=[7,4], dpi=200)\n",
    "\n",
    "sns.histplot(c_df, x=param, hue='Sensor', multiple='stack', bins=94)\n",
    "plt.axvline(grand_mean, c='k', linestyle='--', label='mean', linewidth=1.5)\n",
    "plt.title('Histogram Calibration A')\n",
    "\n",
    "plt.show()"
   ]
  },
  {
   "cell_type": "code",
   "execution_count": null,
   "id": "086a10cb",
   "metadata": {},
   "outputs": [],
   "source": [
    "grand_skew = stats.skew(c_df[param], bias=False)\n",
    "grand_kurtosis = stats.kurtosis(c_df[param], bias=False)\n",
    "\n",
    "print(f'Skew: {grand_skew}')\n",
    "print(f'Kurtosis: {grand_kurtosis}')\n",
    "print(f'Std: {grand_std}')"
   ]
  },
  {
   "cell_type": "markdown",
   "id": "34cfc1fd",
   "metadata": {},
   "source": [
    "**Comment**\n",
    "\n",
    "Slightly longer tail on the right side (positive skew) than a normal distribution. Low kurtosis."
   ]
  },
  {
   "cell_type": "markdown",
   "id": "d9c633b4",
   "metadata": {},
   "source": [
    "## 5 Other "
   ]
  },
  {
   "cell_type": "markdown",
   "id": "9ba0aba6",
   "metadata": {},
   "source": [
    "### 5.1 Pairplots"
   ]
  },
  {
   "cell_type": "code",
   "execution_count": null,
   "id": "b7f6ff15",
   "metadata": {},
   "outputs": [],
   "source": [
    "pair_df = get_calibrate_df('2021-12-14', '../data/calibration_A')\n",
    "\n",
    "pair_df = pair_df[['PM1.0', 'PM2.5', 'Temperature', 'Humidity', 'NC1.0', 'NC2.5', 'Sensor']]\n",
    "\n",
    "sns.pairplot(pair_df, hue='Sensor')\n",
    "\n",
    "#plt.savefig(fig_folder + 'pairplot.pdf')\n",
    "\n",
    "plt.title('Pairplot Calibration A')\n",
    "plt.show()"
   ]
  },
  {
   "cell_type": "markdown",
   "id": "fafe8bc1",
   "metadata": {},
   "source": [
    "# Box plot in stations"
   ]
  },
  {
   "cell_type": "code",
   "execution_count": null,
   "id": "45ffc3ac",
   "metadata": {},
   "outputs": [],
   "source": [
    "# Session df and raw session df\n",
    "s_df = get_computed_sessions()\n",
    "r_df = combine_raw_session_dfs()\n",
    "\n",
    "r_df['Sensor'] = r_df['Sensor'].astype(str)\n",
    "\n",
    "# Only keep green line\n",
    "s_df = s_df[s_df['Station'].isin(get_green_line())]\n",
    "r_df = r_df[r_df['Station'].isin(get_green_line())]\n",
    "\n",
    "# Get session ids\n",
    "session_ids = sorted(list(r_df[\"Session Id\"].unique()))"
   ]
  },
  {
   "cell_type": "code",
   "execution_count": null,
   "id": "1cd90911",
   "metadata": {
    "scrolled": false
   },
   "outputs": [],
   "source": [
    "fig, ax = plt.subplots(figsize=[10,6], dpi=200)\n",
    "\n",
    "sns.boxplot(x='Station', y='NC2.5', data=s_df, width=0.5, order=get_green_line())\n",
    "plt.xticks(rotation=90)\n",
    "plt.title('Box Plots Stations')\n",
    "\n",
    "#plt.axhline(10, c='r', linestyle=(0, (3, 10, 2, 3, 30, 1, 2, 1))) # dash dash dot dash densly dash\n",
    "#plt.savefig('figures/PaperV1/Exploration/CalibrationA/box_plot.pdf')\n",
    "plt.show()"
   ]
  },
  {
   "cell_type": "markdown",
   "id": "eb5543be",
   "metadata": {},
   "source": [
    "**Comment**\n",
    "\n",
    "There are some stations which have quite many outliers."
   ]
  },
  {
   "cell_type": "code",
   "execution_count": null,
   "id": "c811ad5c",
   "metadata": {},
   "outputs": [],
   "source": [
    "# Compute median, lower quartile, upper quartile, IQR, lower limit and upper limit\n",
    "station_quantiles = s_df.groupby('Station').agg(\n",
    "    {'PM2.5': \n",
    "     [Q1, Q2, Q3, IQR, lowerLimit, upperLimit, outliers, prcnt_outliers, 'count']\n",
    "    }\n",
    ")\n",
    "\n",
    "station_quantiles['PM2.5'].sort_values(by='outliers', ascending=False)"
   ]
  },
  {
   "cell_type": "markdown",
   "id": "9bfda7ff",
   "metadata": {},
   "source": [
    "**Comment**\n",
    "\n",
    "Some stations have outliers. What happened during these sessions?"
   ]
  },
  {
   "cell_type": "code",
   "execution_count": null,
   "id": "49d59d2c",
   "metadata": {},
   "outputs": [],
   "source": [
    "outlier_ids = print_outliers(s_df, station_quantiles, 'PM2.5')"
   ]
  },
  {
   "cell_type": "code",
   "execution_count": null,
   "id": "8761292e",
   "metadata": {},
   "outputs": [],
   "source": [
    "sns.histplot(outlier_ids)\n",
    "plt.title('Session Outliers')\n",
    "plt.xticks(rotation=90)\n",
    "plt.show()"
   ]
  },
  {
   "cell_type": "markdown",
   "id": "8cdb04c9",
   "metadata": {},
   "source": [
    "**Comment**\n",
    "\n",
    "These sessions are worth examining and comparing with other sources. Especially session 20211004-2, as it contains 5 outliers within the same session!"
   ]
  },
  {
   "cell_type": "code",
   "execution_count": null,
   "id": "9fd759ea",
   "metadata": {
    "scrolled": false
   },
   "outputs": [],
   "source": []
  },
  {
   "cell_type": "code",
   "execution_count": null,
   "id": "c72a05bb",
   "metadata": {},
   "outputs": [],
   "source": []
  },
  {
   "cell_type": "code",
   "execution_count": null,
   "id": "3e0a8924",
   "metadata": {},
   "outputs": [],
   "source": []
  },
  {
   "cell_type": "markdown",
   "id": "e3cb0352",
   "metadata": {},
   "source": [
    "# Station Distributions\n",
    "\n",
    "- Get all raw data for a station and plot histograms etc. like calibration df"
   ]
  },
  {
   "cell_type": "code",
   "execution_count": null,
   "id": "45a75051",
   "metadata": {},
   "outputs": [],
   "source": []
  },
  {
   "cell_type": "markdown",
   "id": "ab91c0a8",
   "metadata": {},
   "source": [
    "# Drift in sensors"
   ]
  },
  {
   "cell_type": "markdown",
   "id": "3873474e",
   "metadata": {},
   "source": [
    "### Per station"
   ]
  },
  {
   "cell_type": "markdown",
   "id": "a27884a7",
   "metadata": {},
   "source": [
    "### Per sensor per station"
   ]
  },
  {
   "cell_type": "code",
   "execution_count": null,
   "id": "29a45ced",
   "metadata": {},
   "outputs": [],
   "source": [
    "station_data = {}\n",
    "\n",
    "for sensor, grp in r_df.groupby('Sensor'):\n",
    "    if sensor not in station_data:\n",
    "        station_data[sensor] = {}\n",
    "    \n",
    "    for session_id, s_grp in grp.groupby('Session Id'):\n",
    "        # get median value\n",
    "        station_records = s_grp.loc[s_grp['Station'] == 'Rådmansgatan']\n",
    "        \n",
    "        if len(station_records) > 0:\n",
    "            station_data[sensor][session_id] = station_records['PM2.5'].median()"
   ]
  },
  {
   "cell_type": "code",
   "execution_count": null,
   "id": "851633fd",
   "metadata": {},
   "outputs": [],
   "source": [
    "fig, axs = plt.subplots(figsize=[12,10], nrows=4, ncols=3, dpi=200)\n",
    "\n",
    "for sensor, ax in zip(station_data.keys(), axs.flatten()):\n",
    "    sorted_data = {k: v for k, v in sorted(station_data[sensor].items(), key=lambda item: item[0])}\n",
    "    ax.scatter(sorted_data.keys(), sorted_data.values())\n",
    "    \n",
    "    #labels = r_df.loc[r_df['Sensor'] == sensor]['Session Id'].values\n",
    "    #ax.set_xticklabels(labels, rotation=90)\n",
    "    \n",
    "plt.tight_layout()\n",
    "plt.show()"
   ]
  },
  {
   "cell_type": "code",
   "execution_count": null,
   "id": "0f614fb5",
   "metadata": {},
   "outputs": [],
   "source": [
    "#1234BD"
   ]
  },
  {
   "cell_type": "markdown",
   "id": "64c23778",
   "metadata": {},
   "source": [
    "# Comparison DiSC Data"
   ]
  },
  {
   "cell_type": "code",
   "execution_count": null,
   "id": "cdaae0c9",
   "metadata": {},
   "outputs": [],
   "source": [
    "# Session df and raw session df\n",
    "s_df = get_computed_sessions()\n",
    "r_df = combine_raw_session_dfs()\n",
    "\n",
    "r_df['Sensor'] = r_df['Sensor'].astype(str)\n",
    "\n",
    "# Only keep green line\n",
    "s_df = s_df[s_df['Station'].isin(get_green_line())]\n",
    "r_df = r_df[r_df['Station'].isin(get_green_line())]\n",
    "\n",
    "# DiSC df and raw DiSC df\n",
    "disc_df = get_computed_sessions('sessionsDiSC', disc=True)\n",
    "raw_disc_df = combine_raw_session_dfs('sessionsDiSC')\n",
    "\n",
    "disc_df = disc_df.loc[disc_df['Date'] != '2021-10-12']\n",
    "raw_disc_df = raw_disc_df.loc[raw_disc_df['Date'] != '2021-10-12']\n",
    "\n",
    "raw_disc_df['Sensor'] = raw_disc_df['Sensor'].astype(str)\n",
    "\n",
    "# Only keep green line\n",
    "disc_df = disc_df[disc_df['Station'].isin(get_green_line())]\n",
    "raw_disc_df = raw_disc_df[raw_disc_df['Station'].isin(get_green_line())]\n",
    "\n",
    "# Get session ids\n",
    "session_ids = sorted(list(r_df[\"Session Id\"].unique()))"
   ]
  },
  {
   "cell_type": "code",
   "execution_count": null,
   "id": "4c37939b",
   "metadata": {},
   "outputs": [],
   "source": [
    "disc_df['Date'].unique()"
   ]
  },
  {
   "cell_type": "code",
   "execution_count": null,
   "id": "507eb8a4",
   "metadata": {},
   "outputs": [],
   "source": [
    "# DISC DF\n",
    "fig, ax = plt.subplots(figsize=[10,6], dpi=200)\n",
    "\n",
    "sns.boxplot(x='Station', y='Number', data=disc_df, width=0.5, order=get_green_line())\n",
    "plt.xticks(rotation=90)\n",
    "plt.title('Box Plots DiSC')\n",
    "\n",
    "plt.show()"
   ]
  },
  {
   "cell_type": "code",
   "execution_count": null,
   "id": "86d88b88",
   "metadata": {},
   "outputs": [],
   "source": [
    "# Compute median, lower quartile, upper quartile, IQR, lower limit and upper limit\n",
    "d_station_quantiles = disc_df.groupby('Station').agg(\n",
    "    {'Number': \n",
    "     [Q1, Q2, Q3, IQR, lowerLimit, upperLimit, outliers, prcnt_outliers, 'count']\n",
    "    }\n",
    ")\n",
    "\n",
    "d_station_quantiles['Number'].sort_values(by='outliers', ascending=False)"
   ]
  },
  {
   "cell_type": "code",
   "execution_count": null,
   "id": "9b97539b",
   "metadata": {},
   "outputs": [],
   "source": [
    "outlier_ids = print_outliers(disc_df, d_station_quantiles, 'Number')"
   ]
  },
  {
   "cell_type": "code",
   "execution_count": null,
   "id": "36c98330",
   "metadata": {},
   "outputs": [],
   "source": [
    "sns.histplot(outlier_ids)\n",
    "plt.title('Session Outliers')\n",
    "plt.xticks(rotation=90)\n",
    "plt.show()"
   ]
  },
  {
   "cell_type": "markdown",
   "id": "00f1c09e",
   "metadata": {},
   "source": [
    "### Session Graphs"
   ]
  },
  {
   "cell_type": "code",
   "execution_count": null,
   "id": "a9a57f3d",
   "metadata": {},
   "outputs": [],
   "source": [
    "session = '20210930-1'\n",
    "\n",
    "s1_df = r_df.loc[r_df['Session Id'] == session]\n",
    "s2_df = raw_disc_df.loc[raw_disc_df['Session Id'] == session]"
   ]
  },
  {
   "cell_type": "code",
   "execution_count": null,
   "id": "a21acb65",
   "metadata": {},
   "outputs": [],
   "source": [
    "s2_df"
   ]
  },
  {
   "cell_type": "code",
   "execution_count": null,
   "id": "0d1187e4",
   "metadata": {},
   "outputs": [],
   "source": []
  }
 ],
 "metadata": {
  "kernelspec": {
   "display_name": "Python 3.9.7 64-bit",
   "language": "python",
   "name": "python397jvsc74a57bd0340e956ee656efd8fdfb480dc033c937d9b626f8b21073bd1b5aa2a469586ea6"
  },
  "language_info": {
   "codemirror_mode": {
    "name": "ipython",
    "version": 3
   },
   "file_extension": ".py",
   "mimetype": "text/x-python",
   "name": "python",
   "nbconvert_exporter": "python",
   "pygments_lexer": "ipython3",
   "version": "3.9.9"
  }
 },
 "nbformat": 4,
 "nbformat_minor": 5
}
