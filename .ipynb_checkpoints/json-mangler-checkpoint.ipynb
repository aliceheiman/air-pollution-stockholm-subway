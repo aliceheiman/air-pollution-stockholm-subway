{
 "cells": [
  {
   "cell_type": "markdown",
   "id": "8fd9e185",
   "metadata": {},
   "source": [
    "# JSON Mangler\n",
    "\n",
    "**A script** to convert the file structure of a firebase database into another structure.\n",
    "\n",
    "### Usage \n",
    "- Load Jupyter Notebook\n",
    "- Import all libraries\n",
    "- Run cell (5) with paramaters x=100, y=250"
   ]
  },
  {
   "cell_type": "code",
   "execution_count": 1,
   "id": "fbe0d42b",
   "metadata": {
    "scrolled": true
   },
   "outputs": [
    {
     "data": {
      "text/plain": [
       "\"\\n\\nFirebase data structure:\\nPlattform\\n --> Odenplan\\n     --> Date Time\\n         --> Action\\n    Fridhemsplan\\n    --> Date Time\\n         --> Action\\n     \\nGoal data structure\\nstructure = {\\n    'date': [(station, start), ...]\\n    }\\n}\\n\\nConvert into txt file:\\n2021-10-20 stations-AM.txt\\n\\n1. Gullmarsplan: xx:xx:xx - xx:xx:xx\\n2. Skanstull: xx:xx:xx - xx:xx:xx\\n\\n\""
      ]
     },
     "execution_count": 1,
     "metadata": {},
     "output_type": "execute_result"
    }
   ],
   "source": [
    "# json-mangler: Convert firebase database into txt file with stations and timestamps\n",
    "\n",
    "import json\n",
    "import os\n",
    "\n",
    "# FLAW: ODENPLAN MULTIPLE START STOP IN SAME DAY\n",
    "# BIG FLAW: MULTIPLE START STOP IN SAME DAY!! SAVE DIFFERENTLY\n",
    "\n",
    "\"\"\"\n",
    "\n",
    "Firebase data structure:\n",
    "Plattform\n",
    " --> Odenplan\n",
    "     --> Date Time\n",
    "         --> Action\n",
    "    Fridhemsplan\n",
    "    --> Date Time\n",
    "         --> Action\n",
    "     \n",
    "Goal data structure\n",
    "structure = {\n",
    "    'date': [(station, start), ...]\n",
    "    }\n",
    "}\n",
    "\n",
    "Convert into txt file:\n",
    "2021-10-20 stations-AM.txt\n",
    "\n",
    "1. Gullmarsplan: xx:xx:xx - xx:xx:xx\n",
    "2. Skanstull: xx:xx:xx - xx:xx:xx\n",
    "\n",
    "\"\"\""
   ]
  },
  {
   "cell_type": "code",
   "execution_count": 2,
   "id": "ff78f789",
   "metadata": {},
   "outputs": [],
   "source": [
    "datafile = './input/Firebase/firebase.json'\n",
    "\n",
    "with open(datafile, 'r') as f:\n",
    "    data = json.load(f)\n",
    "\n",
    "# Convert into datetime structure with station + start and stop\n",
    "structure = {}\n",
    "\n",
    "for station in data['stations'].keys():\n",
    "    \n",
    "    # Get timestamps\n",
    "    for datetime in data['stations'][station].keys():\n",
    "        \n",
    "        # Split datetime into date and time\n",
    "        s_date, s_time = datetime.split(' ')\n",
    "        \n",
    "        # Label action as start or end\n",
    "        action = data['stations'][station][datetime]['action']\n",
    "        action = 'start' if action == 'On plattform' else 'stop'\n",
    "        \n",
    "        # Do not consider stop-actions\n",
    "        if action == 'stop': continue\n",
    "        \n",
    "        # Add structure skeleton\n",
    "        if s_date not in structure:\n",
    "            structure[s_date] = []\n",
    "        \n",
    "        # Add data\n",
    "        s_tuple = (station, s_time)\n",
    "        structure[s_date].append(s_tuple)"
   ]
  },
  {
   "cell_type": "code",
   "execution_count": 4,
   "id": "343cd5b9",
   "metadata": {
    "scrolled": true
   },
   "outputs": [
    {
     "name": "stdout",
     "output_type": "stream",
     "text": [
      "[('Alvik', '07:50:30'), ('Fridhemsplan', '08:04:12'), ('Gamla Stan', '08:05:31'), ('Gullmarsplan', '07:51:28'), ('Kristineberg', '07:56:01'), ('Medborgarplatsen', '07:58:23'), ('Odenplan', '08:12:36'), ('Skanstull', '07:55:06'), ('Slussen', '08:01:46'), ('St Eriksplan', '08:08:06'), ('Thorildsplan', '07:59:29')]\n"
     ]
    }
   ],
   "source": [
    "print(structure['2021-10-12'])"
   ]
  },
  {
   "cell_type": "code",
   "execution_count": 6,
   "id": "722342b4",
   "metadata": {},
   "outputs": [
    {
     "name": "stdout",
     "output_type": "stream",
     "text": [
      "('Gamla Stan', '08:05:31')\n",
      "('Gullmarsplan', '07:51:28')\n",
      "('Medborgarplatsen', '07:58:23')\n",
      "('Skanstull', '07:55:06')\n",
      "('Slussen', '08:01:46')\n"
     ]
    }
   ],
   "source": [
    "route1 = ['Gullmarsplan', 'Skanstull', 'Medborgarplatsen', 'Slussen', 'Gamla Stan', 'T-Centralen', 'Hötorget', 'Rådmansgatan']\n",
    "\n",
    "for t in structure['2021-10-12']:\n",
    "    if t[0] in route1:\n",
    "        print(t)\n",
    "    \n",
    "    "
   ]
  },
  {
   "cell_type": "code",
   "execution_count": null,
   "id": "a9d6bb1e",
   "metadata": {},
   "outputs": [],
   "source": []
  },
  {
   "cell_type": "code",
   "execution_count": 20,
   "id": "c8ea8ede",
   "metadata": {},
   "outputs": [
    {
     "name": "stdout",
     "output_type": "stream",
     "text": [
      "Stations saved to ./by-date/2021-09-29.\n",
      "Stations saved to ./by-date/2021-09-30.\n",
      "Stations saved to ./by-date/2021-10-04.\n",
      "Stations saved to ./by-date/2021-10-05.\n",
      "Stations saved to ./by-date/2021-10-06.\n",
      "Stations saved to ./by-date/2021-10-07.\n",
      "Stations saved to ./by-date/2021-10-11.\n",
      "Stations saved to ./by-date/2021-09-28.\n",
      "Stations saved to ./by-date/2021-10-01.\n",
      "Stations saved to ./by-date/2021-10-08.\n",
      "Stations saved to ./by-date/2021-10-12.\n",
      "Stations saved to ./by-date/2021-09-27.\n",
      "Stations saved to ./by-date/2021-09-24.\n",
      "Stations saved to ./by-date/2021-09-23.\n"
     ]
    }
   ],
   "source": [
    "route1 = ['Gullmarsplan', 'Skanstull', 'Medborgarplatsen', 'Slussen', 'Gamla Stan', 'T-Centralen', 'Hötorget', 'Rådmansgatan']\n",
    "\n",
    "# For every date, construct a \"station report\"\n",
    "for s_date in structure.keys():\n",
    "    \n",
    "    # Extract stations for routes\n",
    "    route1_tuples = []\n",
    "    route2_tuples = []\n",
    "    \n",
    "    for s_tuple in structure[s_date]:\n",
    "        if s_tuple[0] in route1:\n",
    "            route1_tuples.append(s_tuple)\n",
    "        else:\n",
    "            route2_tuples.append(s_tuple)\n",
    "            \n",
    "    # Sort by start time\n",
    "    route1_tuples.sort(key=lambda x:x[1])\n",
    "    route2_tuples.sort(key=lambda x:x[1])\n",
    "    \n",
    "    # CREATE STATION REPORT\n",
    "    \"\"\"\n",
    "    ------------[ STATION REPORT ]------------\n",
    "    Date: 2021-10-10\n",
    "    \n",
    "    Route \"Alice\":\n",
    "    - Gullmarsplan: 07:12:34\n",
    "    - Skanstull: 07:15:35\n",
    "    \n",
    "    Route \"Alicia\":\n",
    "    - Islandstorget: 07:03:21\n",
    "    - Ängbyplan: 07:06:39\n",
    "    \"\"\"\n",
    "    \n",
    "    # Create header\n",
    "    header = '------------[ STATION REPORT ]------------\\n'\n",
    "    header += f'Date: {s_date}\\n\\n'\n",
    "    \n",
    "    contents = header\n",
    "    \n",
    "    # Add stations to file contents\n",
    "    if len(route1_tuples) > 0:\n",
    "        contents += 'Route \"Alice\"\\n'\n",
    "    \n",
    "        for t in route1_tuples:\n",
    "            contents += f'-{t[0]}: {t[1]}\\n'\n",
    "            \n",
    "        contents += '\\n'\n",
    "            \n",
    "    if len(route2_tuples) > 0:\n",
    "        contents += 'Route \"Alicia\"\\n'\n",
    "    \n",
    "        for t in route2_tuples:\n",
    "            contents += f'-{t[0]}: {t[1]}\\n' \n",
    "    \n",
    "    # Enter report in correct folder\n",
    "    folderpath = f'./by-date/{s_date}'\n",
    "    \n",
    "    # Create folder if not exists\n",
    "    if not os.path.exists(folderpath):\n",
    "        os.makedirs(folderpath)\n",
    "    \n",
    "    filepath = folderpath + '/station_report.txt'\n",
    "  \n",
    "    with open(filepath, 'w') as f:\n",
    "        f.write(contents)\n",
    "        print(f'Stations saved to {folderpath}.')\n",
    "    "
   ]
  },
  {
   "cell_type": "code",
   "execution_count": null,
   "id": "c5faa80d",
   "metadata": {},
   "outputs": [],
   "source": []
  }
 ],
 "metadata": {
  "kernelspec": {
   "display_name": "Python 3.9.4 64-bit ('base': conda)",
   "language": "python",
   "name": "python394jvsc74a57bd095ec9ec1504d83f612128e0fb229072f90bbb4cb09d9d5d93b5dd26e0ca2cfd1"
  },
  "language_info": {
   "codemirror_mode": {
    "name": "ipython",
    "version": 3
   },
   "file_extension": ".py",
   "mimetype": "text/x-python",
   "name": "python",
   "nbconvert_exporter": "python",
   "pygments_lexer": "ipython3",
   "version": "3.9.4"
  }
 },
 "nbformat": 4,
 "nbformat_minor": 5
}
